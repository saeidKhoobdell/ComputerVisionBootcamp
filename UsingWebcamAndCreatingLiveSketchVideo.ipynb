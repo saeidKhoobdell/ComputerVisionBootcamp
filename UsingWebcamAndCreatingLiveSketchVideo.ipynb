{
 "cells": [
  {
   "cell_type": "code",
   "execution_count": 1,
   "metadata": {},
   "outputs": [],
   "source": [
    "import numpy as  np\n",
    "import cv2\n"
   ]
  },
  {
   "cell_type": "code",
   "execution_count": 3,
   "metadata": {},
   "outputs": [],
   "source": [
    "\n",
    "# Accessing the default webcam (index 0)\n",
    "cap = cv2.VideoCapture(0)\n",
    "\n",
    "# Loop to continuously capture frames from the webcam\n",
    "while True:\n",
    "    # Reading a frame from the webcam\n",
    "    ret, frame = cap.read()\n",
    "    \n",
    "    # Displaying the frame in a window named 'webcam'\n",
    "    cv2.imshow('webcam', frame)\n",
    "    \n",
    "    # Checking for the 'Enter' key (key code 13) to exit the loop\n",
    "    if cv2.waitKey(1) == 13:\n",
    "        break\n",
    "\n",
    "# Releasing the webcam and closing the OpenCV windows\n",
    "cap.release()\n",
    "cv2.destroyAllWindows()\n"
   ]
  },
  {
   "cell_type": "code",
   "execution_count": 10,
   "metadata": {},
   "outputs": [],
   "source": [
    "def sketch(image):\n",
    "    image = cv2.cvtColor(image,cv2.COLOR_BGR2GRAY)\n",
    "    image = cv2.GaussianBlur(image, (5,5), 0)\n",
    "    canny_image = cv2.Canny(image,10,70)\n",
    "    #all the vallue above 70 > 1 and bellow 70 > 0 at the end with THRESH_BINARY_INV the pixels that were white become black, and vice versa\n",
    "    ret, mask = cv2.threshold(canny_image, 70,255, cv2.THRESH_BINARY_INV)\n",
    "    return mask\n"
   ]
  },
  {
   "cell_type": "code",
   "execution_count": 11,
   "metadata": {},
   "outputs": [],
   "source": [
    "\n",
    "cap = cv2.VideoCapture(0)\n",
    "\n",
    "\n",
    "while True:\n",
    "\n",
    "    ret, frame = cap.read()\n",
    "    cv2.imshow('webcam', sketch(frame))\n",
    "    if cv2.waitKey(1) == 13:\n",
    "        break\n",
    "\n",
    "\n",
    "cap.release()\n",
    "cv2.destroyAllWindows()\n"
   ]
  },
  {
   "cell_type": "code",
   "execution_count": null,
   "metadata": {},
   "outputs": [],
   "source": []
  }
 ],
 "metadata": {
  "kernelspec": {
   "display_name": "pytorch",
   "language": "python",
   "name": "pytorch"
  },
  "language_info": {
   "codemirror_mode": {
    "name": "ipython",
    "version": 3
   },
   "file_extension": ".py",
   "mimetype": "text/x-python",
   "name": "python",
   "nbconvert_exporter": "python",
   "pygments_lexer": "ipython3",
   "version": "3.10.4"
  }
 },
 "nbformat": 4,
 "nbformat_minor": 2
}
