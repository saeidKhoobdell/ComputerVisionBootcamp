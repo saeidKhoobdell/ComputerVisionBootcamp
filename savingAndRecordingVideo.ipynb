{
 "cells": [
  {
   "cell_type": "code",
   "execution_count": 7,
   "metadata": {},
   "outputs": [
    {
     "name": "stdout",
     "output_type": "stream",
     "text": [
      "Converted 19century.mp4 to Grayscale..\n"
     ]
    }
   ],
   "source": [
    "import cv2\n",
    "video_path = '19century.mp4'\n",
    "cap = cv2.VideoCapture(video_path)\n",
    "w = int(cap.get(3))\n",
    "h= int(cap.get(4))\n",
    "\n",
    "'''\n",
    "When using the VideoWriter object. We need to specify:\n",
    "\n",
    "the output file name and\n",
    "the FourCC code\n",
    "the number of frames per second (fps)\n",
    "the frame size\n",
    "the isColor flag (if True, the encoder expect color frame, otherwise it works with grayscale frame)\n",
    "'''\n",
    "# Define the codec and create VideoWriter object. The output is stored in '*.avi' file.\n",
    "out  = cv2.VideoWriter('output.avi', cv2.VideoWriter_fourcc(*'MJPG'), 30, (w,h), False)\n",
    "\n",
    "\n",
    "while True:\n",
    "    ret, frame = cap.read()\n",
    "\n",
    "    if ret==True:\n",
    "        gray = cv2.cvtColor(frame, cv2.COLOR_BGR2GRAY)\n",
    "        out.write(gray)\n",
    "    else:\n",
    "        print(f\"Converted {video_path} to Grayscale..\")\n",
    "        break\n",
    "        \n",
    "\n",
    "out.release()          \n",
    "cap.release()\n",
    "cv2.destroyAllWindows()\n",
    "      "
   ]
  },
  {
   "cell_type": "code",
   "execution_count": null,
   "metadata": {},
   "outputs": [],
   "source": []
  }
 ],
 "metadata": {
  "kernelspec": {
   "display_name": "pytorch",
   "language": "python",
   "name": "pytorch"
  },
  "language_info": {
   "codemirror_mode": {
    "name": "ipython",
    "version": 3
   },
   "file_extension": ".py",
   "mimetype": "text/x-python",
   "name": "python",
   "nbconvert_exporter": "python",
   "pygments_lexer": "ipython3",
   "version": "3.10.4"
  }
 },
 "nbformat": 4,
 "nbformat_minor": 2
}
