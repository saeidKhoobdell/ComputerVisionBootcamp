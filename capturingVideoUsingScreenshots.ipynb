{
 "cells": [
  {
   "cell_type": "markdown",
   "metadata": {},
   "source": [
    "# **Capture Single Screenshot Image**"
   ]
  },
  {
   "cell_type": "markdown",
   "metadata": {},
   "source": [
    "**MacOS or Linux**\n",
    "1. pip install Pillow\n",
    "2. sudo -H pip install pyscreenshot\n",
    "\n",
    "**Windows**\n",
    "1. pip install Pillow\n",
    "2. pip install pyscreenshot"
   ]
  },
  {
   "cell_type": "code",
   "execution_count": null,
   "metadata": {},
   "outputs": [],
   "source": [
    "import pyscreenshot as ImageGrab\n",
    "\n",
    "# grab fullscreen\n",
    "im = ImageGrab.grab()\n",
    "\n",
    "# save image file\n",
    "im.save('fullscreen.png')"
   ]
  },
  {
   "cell_type": "markdown",
   "metadata": {},
   "source": [
    "## **Capture Video from Screen with a Super Fast Frame Rate using MSS**\n",
    "\n"
   ]
  },
  {
   "cell_type": "code",
   "execution_count": 1,
   "metadata": {},
   "outputs": [
    {
     "name": "stdout",
     "output_type": "stream",
     "text": [
      "Collecting mss\n",
      "  Downloading mss-9.0.1-py3-none-any.whl (22 kB)\n",
      "Installing collected packages: mss\n",
      "Successfully installed mss-9.0.1\n"
     ]
    }
   ],
   "source": [
    "!pip install mss"
   ]
  },
  {
   "cell_type": "code",
   "execution_count": null,
   "metadata": {},
   "outputs": [],
   "source": [
    "import numpy as np\n",
    "import cv2\n",
    "from mss import mss\n",
    "from PIL import Image\n",
    "import time\n",
    "\n",
    "bounding_box = {'top': 100, 'left': 0, 'width': 400, 'height': 300}\n",
    "\n",
    "sct = mss()\n",
    "frame_count = 0 \n",
    "last_time = time.time()\n",
    "\n",
    "while True:\n",
    "    frame_count += 1\n",
    "    sct_img = sct.grab(bounding_box)\n",
    "    cv2.imshow('screen', np.array(sct_img))\n",
    "\n",
    "    # Display FPS rate\n",
    "    if frame_count % 30 == 0:\n",
    "        FPS = 1.0 / (time.time()-last_time)\n",
    "        print('FPS = {}'.format(FPS))\n",
    "    last_time = time.time()    \n",
    "\n",
    "    if cv2.waitKey(1) == 13: #13 is the Enter Key\n",
    "        print(\"Exited...\")\n",
    "        break\n",
    "        \n",
    "cv2.destroyAllWindows()"
   ]
  }
 ],
 "metadata": {
  "kernelspec": {
   "display_name": "pytorch",
   "language": "python",
   "name": "pytorch"
  },
  "language_info": {
   "codemirror_mode": {
    "name": "ipython",
    "version": 3
   },
   "file_extension": ".py",
   "mimetype": "text/x-python",
   "name": "python",
   "nbconvert_exporter": "python",
   "pygments_lexer": "ipython3",
   "version": "3.10.4"
  }
 },
 "nbformat": 4,
 "nbformat_minor": 2
}
