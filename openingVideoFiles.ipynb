{
 "cells": [
  {
   "cell_type": "code",
   "execution_count": 3,
   "metadata": {},
   "outputs": [
    {
     "name": "stdout",
     "output_type": "stream",
     "text": [
      "0.0\n",
      "0.0\n",
      "7.8125e-05\n",
      "640.0\n",
      "360.0\n",
      "25.0\n",
      "875967080.0\n",
      "750.0\n",
      "0.0\n",
      "0.0\n",
      "0.0\n",
      "0.0\n",
      "0.0\n",
      "0.0\n",
      "0.0\n",
      "0.0\n",
      "1.0\n",
      "0.0\n",
      "Stream stopped\n"
     ]
    }
   ],
   "source": [
    "import cv2\n",
    "video_path = \"Video Path\"\n",
    "cap = cv2.VideoCapture(video_path)\n",
    "\n",
    "\n",
    "#Each number denotes a property of the video (if it is applicable to that video)\n",
    "for i in range(0,18):\n",
    "        print(cap.get(i))\n",
    "#Check Video Streams before processing\n",
    "\n",
    "\n",
    "if not cap.isOpened():\n",
    "    print(f\"Cannot open {video_path}\")\n",
    "    exit()\n",
    "\n",
    "while cap.isOpened():\n",
    "    \n",
    "    ret,frame = cap.read()\n",
    "    #ret return True when the video is playing\n",
    "    if not ret:\n",
    "        print(\"Stream stopped\")\n",
    "        break\n",
    "    cv2.imshow(video_path, frame)\n",
    "    if cv2.waitKey(1) == ord('q'):\n",
    "        break\n",
    "\n",
    "\n",
    "    \n",
    "cap.release()\n",
    "cv2.destroyAllWindows()    \n"
   ]
  },
  {
   "cell_type": "code",
   "execution_count": null,
   "metadata": {},
   "outputs": [],
   "source": []
  }
 ],
 "metadata": {
  "kernelspec": {
   "display_name": "pytorch",
   "language": "python",
   "name": "pytorch"
  },
  "language_info": {
   "codemirror_mode": {
    "name": "ipython",
    "version": 3
   },
   "file_extension": ".py",
   "mimetype": "text/x-python",
   "name": "python",
   "nbconvert_exporter": "python",
   "pygments_lexer": "ipython3",
   "version": "3.10.4"
  }
 },
 "nbformat": 4,
 "nbformat_minor": 2
}
