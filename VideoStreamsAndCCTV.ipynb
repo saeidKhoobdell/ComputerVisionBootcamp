{
 "cells": [
  {
   "cell_type": "code",
   "execution_count": null,
   "metadata": {},
   "outputs": [],
   "source": [
    "import cv2 \n",
    "\n",
    "# Our Free Test RSTP Link\n",
    "# You can configure your CCTV IPTV Cameras to output a RSTP Stream\n",
    "cap = cv2.VideoCapture(\"rtsp://wowzaec2demo.streamlock.net/vod/mp4:BigBuckBunny_115k.mov\")\n",
    "\n",
    "while(1):\n",
    "    ret, frame = cap.read()\n",
    "\n",
    "    cv2.imshow('RTSP Stream', frame)\n",
    "    \n",
    "    if cv2.waitKey(1) == 13: #13 is the Enter Key\n",
    "        break\n",
    "        \n",
    "# Release camera and close windows\n",
    "cap.release()\n",
    "cv2.destroyAllWindows()      "
   ]
  },
  {
   "cell_type": "markdown",
   "metadata": {},
   "source": [
    "### **Interested in Ingesting Multiple IP Streams Easily? Look at ImageZMG**\n",
    "\n",
    "- https://github.com/jeffbass/imagezmq#introduction\n",
    "- https://www.pyimageconf.com/static/talks/jeff_bass.pdf"
   ]
  },
  {
   "cell_type": "code",
   "execution_count": null,
   "metadata": {},
   "outputs": [],
   "source": [
    "!pip install imagezmq\n",
    "!pip install imutils"
   ]
  },
  {
   "cell_type": "code",
   "execution_count": null,
   "metadata": {
    "slideshow": {
     "slide_type": "notes"
    }
   },
   "outputs": [],
   "source": [
    "import cv2\n",
    "import imagezmq\n",
    "image_hub = imagezmq.ImageHub()\n",
    "while True:  # show streamed images until Ctrl-C\n",
    "    rpi_name, image = image_hub.recv_image()\n",
    "    cv2.imshow(rpi_name, image) # 1 window for each RPi\n",
    "    cv2.waitKey(1)\n",
    "    image_hub.send_reply(b'OK')"
   ]
  },
  {
   "cell_type": "code",
   "execution_count": null,
   "metadata": {},
   "outputs": [],
   "source": [
    "# run this program on each RPi to send a labelled image stream\n",
    "import socket\n",
    "import time\n",
    "from imutils.video import VideoStream\n",
    "import imagezmq\n",
    "\n",
    "sender = imagezmq.ImageSender(connect_to='tcp://jeff-macbook:5555')\n",
    "\n",
    "rpi_name = socket.gethostname() # send RPi hostname with each image\n",
    "picam = VideoStream(usePiCamera=True).start()\n",
    "time.sleep(2.0)  # allow camera sensor to warm up\n",
    "while True:  # send images as stream until Ctrl-C\n",
    "    image = picam.read()\n",
    "    sender.send_image(rpi_name, image)"
   ]
  },
  {
   "cell_type": "markdown",
   "metadata": {},
   "source": [
    "Auto Reconnect to RSTP Stream"
   ]
  },
  {
   "cell_type": "markdown",
   "metadata": {},
   "source": [
    "# **Auto Reconnect to RSTP Stream**"
   ]
  },
  {
   "cell_type": "code",
   "execution_count": 1,
   "metadata": {},
   "outputs": [],
   "source": [
    "import cv2\n",
    "import requests  \n",
    "import time  \n",
    "\n",
    "class VideoCapture:\n",
    "    def __init__(self, cam_address, cam_force_address=None, blocking=False):\n",
    "        \"\"\"\n",
    "        cam_address: ip address of the camera feed\n",
    "        cam_force_address: ip address to disconnect other clients (forcefully take over)\n",
    "        blocking: if true read() and connect_camera() methods blocked until ip camera is reconnected\n",
    "        \"\"\"\n",
    "        self.cam_address = cam_address\n",
    "        self.cam_force_address = cam_force_address\n",
    "        self.blocking = blocking\n",
    "        self.capture = None\n",
    "        \n",
    "        # NOTE: Can be increased to reduce printing\n",
    "        self.RECONNECTION_PERIOD = 0.5\n",
    "        # Calls the connect method\n",
    "        self.connect_camera()\n",
    "\n",
    "    def connect_camera(self):\n",
    "        print(\"Connecting...\")\n",
    "        while True:\n",
    "            try:\n",
    "                if self.cam_force_address is not None:\n",
    "                    requests.get(self.cam_force_address)\n",
    "\n",
    "                self.capture = cv2.VideoCapture(self.cam_address)\n",
    "\n",
    "                if not self.capture.isOpened():\n",
    "                    time.sleep(self.RECONNECTION_PERIOD)\n",
    "                    raise Exception(\"Could not connect to a camera: {0}\".format(self.cam_address))\n",
    "\n",
    "                print(\"Connected to a camera: {}\".format(self.cam_address))\n",
    "\n",
    "                break\n",
    "            except Exception as e:\n",
    "                print(e)\n",
    "\n",
    "                if self.blocking is False:\n",
    "                    break\n",
    "\n",
    "                time.sleep(self.RECONNECTION_PERIOD)\n",
    "\n",
    "    def getStream(self):\n",
    "        \"\"\"\n",
    "        Reads frame and if frame is not received tries to reconnect the camera\n",
    "\n",
    "        :return: ret - bool witch specifies if frame was read successfully\n",
    "                 frame - opencv image from the camera\n",
    "        \"\"\"\n",
    "\n",
    "        ret, frame = self.capture.read()\n",
    "\n",
    "        # If feed goes down we try to reconnect\n",
    "        if ret is False:\n",
    "            self.connect_camera()\n",
    "\n",
    "        return ret, frame"
   ]
  },
  {
   "cell_type": "code",
   "execution_count": null,
   "metadata": {},
   "outputs": [],
   "source": [
    "cap = VideoCapture(\"rtsp://wowzaec2demo.streamlock.net/vod/mp4:BigBuckBunny_115k.mov\")\n",
    "\n",
    "while(1):\n",
    "    ret, frame = cap.getStream()\n",
    "    \n",
    "    # Note this will keep the loop running until you force the program to exit\n",
    "    try:\n",
    "        cv2.imshow('RTSP Stream', frame)\n",
    "    except:\n",
    "        print(\"Feed has gone down...\")\n",
    "        \n",
    "    if cv2.waitKey(1) == 13: #13 is the Enter Key\n",
    "        print(\"Exited...\")\n",
    "        break\n",
    "        \n",
    "# Release camera and close windows\n",
    "cv2.destroyAllWindows()   "
   ]
  },
  {
   "cell_type": "code",
   "execution_count": null,
   "metadata": {},
   "outputs": [],
   "source": []
  }
 ],
 "metadata": {
  "kernelspec": {
   "display_name": "pytorch",
   "language": "python",
   "name": "pytorch"
  },
  "language_info": {
   "codemirror_mode": {
    "name": "ipython",
    "version": 3
   },
   "file_extension": ".py",
   "mimetype": "text/x-python",
   "name": "python",
   "nbconvert_exporter": "python",
   "pygments_lexer": "ipython3",
   "version": "3.10.4"
  }
 },
 "nbformat": 4,
 "nbformat_minor": 2
}
